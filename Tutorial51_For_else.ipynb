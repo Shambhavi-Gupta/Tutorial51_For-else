{
  "nbformat": 4,
  "nbformat_minor": 0,
  "metadata": {
    "colab": {
      "name": "Tutorial51_For-else.ipynb",
      "provenance": [],
      "authorship_tag": "ABX9TyMztN4YaYfK9EDIOylHIUU5",
      "include_colab_link": true
    },
    "kernelspec": {
      "name": "python3",
      "display_name": "Python 3"
    }
  },
  "cells": [
    {
      "cell_type": "markdown",
      "metadata": {
        "id": "view-in-github",
        "colab_type": "text"
      },
      "source": [
        "<a href=\"https://colab.research.google.com/github/Shambhavi-Gupta/Tutorial51_For-else/blob/main/Tutorial51_For_else.ipynb\" target=\"_parent\"><img src=\"https://colab.research.google.com/assets/colab-badge.svg\" alt=\"Open In Colab\"/></a>"
      ]
    },
    {
      "cell_type": "code",
      "metadata": {
        "id": "bwem1ebYx4AK"
      },
      "source": [
        "# a = \"Shambhavi\"\r\n",
        "# for ch in a:\r\n",
        "#     print(ch)\r\n",
        "# else:\r\n",
        "#     print(\"This for loop ended properly\")\r\n",
        "\r\n",
        "list1 = [\"One\",\"Two\",\"Three\"]\r\n",
        "for item in list1:\r\n",
        "    # print(item)\r\n",
        "    # break\r\n",
        "    if item == \"one\":\r\n",
        "        break\r\n",
        "\r\n",
        "else:\r\n",
        "    print(\"This for loop ended properly\")"
      ],
      "execution_count": null,
      "outputs": []
    }
  ]
}